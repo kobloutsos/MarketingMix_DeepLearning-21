{
  "nbformat": 4,
  "nbformat_minor": 0,
  "metadata": {
    "colab": {
      "name": "MarketingMix - Deep Learning.ipynb",
      "provenance": [],
      "collapsed_sections": [],
      "authorship_tag": "ABX9TyNDBi+l2mI3eZ6raXjGzHek",
      "include_colab_link": true
    },
    "kernelspec": {
      "name": "python3",
      "display_name": "Python 3"
    },
    "language_info": {
      "name": "python"
    }
  },
  "cells": [
    {
      "cell_type": "markdown",
      "metadata": {
        "id": "view-in-github",
        "colab_type": "text"
      },
      "source": [
        "<a href=\"https://colab.research.google.com/github/kobloutsos/MarketingMix_DeepLearning-21/blob/main/MarketingMix_Deep_Learning.ipynb\" target=\"_parent\"><img src=\"https://colab.research.google.com/assets/colab-badge.svg\" alt=\"Open In Colab\"/></a>"
      ]
    },
    {
      "cell_type": "markdown",
      "metadata": {
        "id": "llHIVVgeUC7s"
      },
      "source": [
        "# **Marketing Mix Analytics using Deep Learning Techniques**"
      ]
    },
    {
      "cell_type": "markdown",
      "metadata": {
        "id": "IvRw5DrGUOs1"
      },
      "source": [
        "### Import libraries"
      ]
    },
    {
      "cell_type": "code",
      "metadata": {
        "id": "oQ9PpSUO73b_"
      },
      "source": [
        "import seaborn as sns\n",
        "import pandas as pd\n",
        "import numpy as np\n",
        "import matplotlib.pyplot as plt\n",
        "import tensorflow as tf\n"
      ],
      "execution_count": 241,
      "outputs": []
    },
    {
      "cell_type": "markdown",
      "metadata": {
        "id": "mhsyLHUEUc-N"
      },
      "source": [
        "###Import retail data"
      ]
    },
    {
      "cell_type": "code",
      "metadata": {
        "colab": {
          "base_uri": "https://localhost:8080/",
          "height": 394
        },
        "id": "Wfr-GxTPQmx9",
        "outputId": "d36d0824-fb1e-4b7a-81e0-7b565dacb40c"
      },
      "source": [
        "url = 'https://raw.githubusercontent.com/kobloutsos/MarketingMix_DeepLearning-21/main/Retailer_1.xlsx';\n",
        "data_retailer1 = pd.read_excel(url);\n",
        "data_retailer1.head()"
      ],
      "execution_count": 244,
      "outputs": [
        {
          "output_type": "execute_result",
          "data": {
            "text/html": [
              "<div>\n",
              "<style scoped>\n",
              "    .dataframe tbody tr th:only-of-type {\n",
              "        vertical-align: middle;\n",
              "    }\n",
              "\n",
              "    .dataframe tbody tr th {\n",
              "        vertical-align: top;\n",
              "    }\n",
              "\n",
              "    .dataframe thead th {\n",
              "        text-align: right;\n",
              "    }\n",
              "</style>\n",
              "<table border=\"1\" class=\"dataframe\">\n",
              "  <thead>\n",
              "    <tr style=\"text-align: right;\">\n",
              "      <th></th>\n",
              "      <th>Category</th>\n",
              "      <th>Product</th>\n",
              "      <th>Buckets_Of_Size_2</th>\n",
              "      <th>Week</th>\n",
              "      <th>Time</th>\n",
              "      <th>AveragePrice</th>\n",
              "      <th>Volume</th>\n",
              "      <th>Value</th>\n",
              "      <th>APRV</th>\n",
              "      <th>APRU</th>\n",
              "      <th>BasePrice</th>\n",
              "      <th>TPR</th>\n",
              "      <th>ACV_Weighted</th>\n",
              "      <th>Distribution_Weighted</th>\n",
              "      <th>ACV Cumulated Weighted Distribution (SKU) VOL</th>\n",
              "      <th>TPR_PromoCalendar</th>\n",
              "      <th>TPR_PromoCalendar Dummy</th>\n",
              "      <th>PM_multibuy 2+1</th>\n",
              "      <th>PM_60% for second</th>\n",
              "      <th>PM_TPR</th>\n",
              "      <th>PM_multibuy 1+1</th>\n",
              "      <th>leaflets_seasonal</th>\n",
              "      <th>leaflets_standard</th>\n",
              "      <th>cashier</th>\n",
              "      <th>Tailor made name</th>\n",
              "      <th>Tailor made name Dummy</th>\n",
              "      <th>Tailor made name Football</th>\n",
              "      <th>Tailor made name Power of One</th>\n",
              "      <th>Tailor made name Power of One 2</th>\n",
              "      <th>Tailor made amount</th>\n",
              "      <th>Secondary display counts</th>\n",
              "      <th>Secondary display counts Dummy</th>\n",
              "      <th>WeeklyCategoryVolume</th>\n",
              "      <th>IsHoliday</th>\n",
              "      <th>IsChristmas/NewYear</th>\n",
              "      <th>IsEaster</th>\n",
              "      <th>IsSummer</th>\n",
              "    </tr>\n",
              "  </thead>\n",
              "  <tbody>\n",
              "    <tr>\n",
              "      <th>0</th>\n",
              "      <td>Category 4</td>\n",
              "      <td>7</td>\n",
              "      <td>0 - 100 GR</td>\n",
              "      <td>1</td>\n",
              "      <td>1</td>\n",
              "      <td>383.789761</td>\n",
              "      <td>158.4097</td>\n",
              "      <td>72158.9027</td>\n",
              "      <td>455.520733</td>\n",
              "      <td>40.996861</td>\n",
              "      <td>601.258208</td>\n",
              "      <td>24.238750</td>\n",
              "      <td>0.92</td>\n",
              "      <td>0.92</td>\n",
              "      <td>0.0</td>\n",
              "      <td>0.0</td>\n",
              "      <td>0.0</td>\n",
              "      <td>0.0</td>\n",
              "      <td>0.0</td>\n",
              "      <td>0.0</td>\n",
              "      <td>0.0</td>\n",
              "      <td>0.0</td>\n",
              "      <td>0.0</td>\n",
              "      <td>0.0</td>\n",
              "      <td>NaN</td>\n",
              "      <td>0.0</td>\n",
              "      <td>0.0</td>\n",
              "      <td>0.0</td>\n",
              "      <td>0.0</td>\n",
              "      <td>NaN</td>\n",
              "      <td>NaN</td>\n",
              "      <td>0.0</td>\n",
              "      <td>762.7185</td>\n",
              "      <td>0</td>\n",
              "      <td>1</td>\n",
              "      <td>0</td>\n",
              "      <td>0</td>\n",
              "    </tr>\n",
              "    <tr>\n",
              "      <th>1</th>\n",
              "      <td>Category 4</td>\n",
              "      <td>8</td>\n",
              "      <td>0 - 100 GR</td>\n",
              "      <td>1</td>\n",
              "      <td>1</td>\n",
              "      <td>383.789761</td>\n",
              "      <td>24.8724</td>\n",
              "      <td>12531.3173</td>\n",
              "      <td>503.824211</td>\n",
              "      <td>42.824980</td>\n",
              "      <td>753.184106</td>\n",
              "      <td>33.107429</td>\n",
              "      <td>0.87</td>\n",
              "      <td>0.88</td>\n",
              "      <td>0.0</td>\n",
              "      <td>0.0</td>\n",
              "      <td>0.0</td>\n",
              "      <td>0.0</td>\n",
              "      <td>0.0</td>\n",
              "      <td>0.0</td>\n",
              "      <td>0.0</td>\n",
              "      <td>0.0</td>\n",
              "      <td>0.0</td>\n",
              "      <td>0.0</td>\n",
              "      <td>NaN</td>\n",
              "      <td>0.0</td>\n",
              "      <td>0.0</td>\n",
              "      <td>0.0</td>\n",
              "      <td>0.0</td>\n",
              "      <td>NaN</td>\n",
              "      <td>NaN</td>\n",
              "      <td>0.0</td>\n",
              "      <td>762.7185</td>\n",
              "      <td>0</td>\n",
              "      <td>1</td>\n",
              "      <td>0</td>\n",
              "      <td>0</td>\n",
              "    </tr>\n",
              "    <tr>\n",
              "      <th>2</th>\n",
              "      <td>Category 4</td>\n",
              "      <td>9</td>\n",
              "      <td>0 - 100 GR</td>\n",
              "      <td>1</td>\n",
              "      <td>1</td>\n",
              "      <td>383.789761</td>\n",
              "      <td>6.4136</td>\n",
              "      <td>4877.3394</td>\n",
              "      <td>760.468286</td>\n",
              "      <td>121.674926</td>\n",
              "      <td>781.697292</td>\n",
              "      <td>2.715758</td>\n",
              "      <td>0.45</td>\n",
              "      <td>0.47</td>\n",
              "      <td>0.0</td>\n",
              "      <td>0.0</td>\n",
              "      <td>0.0</td>\n",
              "      <td>0.0</td>\n",
              "      <td>0.0</td>\n",
              "      <td>0.0</td>\n",
              "      <td>0.0</td>\n",
              "      <td>0.0</td>\n",
              "      <td>0.0</td>\n",
              "      <td>0.0</td>\n",
              "      <td>NaN</td>\n",
              "      <td>0.0</td>\n",
              "      <td>0.0</td>\n",
              "      <td>0.0</td>\n",
              "      <td>0.0</td>\n",
              "      <td>NaN</td>\n",
              "      <td>NaN</td>\n",
              "      <td>0.0</td>\n",
              "      <td>762.7185</td>\n",
              "      <td>0</td>\n",
              "      <td>1</td>\n",
              "      <td>0</td>\n",
              "      <td>0</td>\n",
              "    </tr>\n",
              "    <tr>\n",
              "      <th>3</th>\n",
              "      <td>Category 4</td>\n",
              "      <td>10</td>\n",
              "      <td>0 - 100 GR</td>\n",
              "      <td>1</td>\n",
              "      <td>1</td>\n",
              "      <td>383.789761</td>\n",
              "      <td>63.2364</td>\n",
              "      <td>27573.2860</td>\n",
              "      <td>436.035037</td>\n",
              "      <td>41.423286</td>\n",
              "      <td>682.672951</td>\n",
              "      <td>36.128268</td>\n",
              "      <td>0.94</td>\n",
              "      <td>0.95</td>\n",
              "      <td>0.0</td>\n",
              "      <td>0.0</td>\n",
              "      <td>0.0</td>\n",
              "      <td>0.0</td>\n",
              "      <td>0.0</td>\n",
              "      <td>0.0</td>\n",
              "      <td>0.0</td>\n",
              "      <td>0.0</td>\n",
              "      <td>0.0</td>\n",
              "      <td>0.0</td>\n",
              "      <td>NaN</td>\n",
              "      <td>0.0</td>\n",
              "      <td>0.0</td>\n",
              "      <td>0.0</td>\n",
              "      <td>0.0</td>\n",
              "      <td>NaN</td>\n",
              "      <td>NaN</td>\n",
              "      <td>0.0</td>\n",
              "      <td>762.7185</td>\n",
              "      <td>0</td>\n",
              "      <td>1</td>\n",
              "      <td>0</td>\n",
              "      <td>0</td>\n",
              "    </tr>\n",
              "    <tr>\n",
              "      <th>4</th>\n",
              "      <td>Category 4</td>\n",
              "      <td>24</td>\n",
              "      <td>NaN</td>\n",
              "      <td>1</td>\n",
              "      <td>1</td>\n",
              "      <td>383.789761</td>\n",
              "      <td>0.0000</td>\n",
              "      <td>0.0000</td>\n",
              "      <td>0.000000</td>\n",
              "      <td>0.000000</td>\n",
              "      <td>17.158643</td>\n",
              "      <td>0.000000</td>\n",
              "      <td>0.00</td>\n",
              "      <td>0.00</td>\n",
              "      <td>0.0</td>\n",
              "      <td>0.0</td>\n",
              "      <td>0.0</td>\n",
              "      <td>0.0</td>\n",
              "      <td>0.0</td>\n",
              "      <td>0.0</td>\n",
              "      <td>0.0</td>\n",
              "      <td>0.0</td>\n",
              "      <td>0.0</td>\n",
              "      <td>0.0</td>\n",
              "      <td>NaN</td>\n",
              "      <td>0.0</td>\n",
              "      <td>0.0</td>\n",
              "      <td>0.0</td>\n",
              "      <td>0.0</td>\n",
              "      <td>NaN</td>\n",
              "      <td>NaN</td>\n",
              "      <td>0.0</td>\n",
              "      <td>762.7185</td>\n",
              "      <td>0</td>\n",
              "      <td>1</td>\n",
              "      <td>0</td>\n",
              "      <td>0</td>\n",
              "    </tr>\n",
              "  </tbody>\n",
              "</table>\n",
              "</div>"
            ],
            "text/plain": [
              "     Category  Product  ... IsEaster  IsSummer\n",
              "0  Category 4        7  ...        0         0\n",
              "1  Category 4        8  ...        0         0\n",
              "2  Category 4        9  ...        0         0\n",
              "3  Category 4       10  ...        0         0\n",
              "4  Category 4       24  ...        0         0\n",
              "\n",
              "[5 rows x 37 columns]"
            ]
          },
          "metadata": {
            "tags": []
          },
          "execution_count": 244
        }
      ]
    },
    {
      "cell_type": "markdown",
      "metadata": {
        "id": "QfnZyvkVVcYy"
      },
      "source": [
        "###Data Descriptives and Manipulation"
      ]
    },
    {
      "cell_type": "code",
      "metadata": {
        "colab": {
          "base_uri": "https://localhost:8080/"
        },
        "id": "ZKDo-paqtILF",
        "outputId": "a002418c-8fb1-4eea-ced4-baa79143b994"
      },
      "source": [
        "print (data_retailer2.describe(include='all'));"
      ],
      "execution_count": 280,
      "outputs": [
        {
          "output_type": "stream",
          "text": [
            "          Category        Product  ...       IsEaster       IsSummer\n",
            "count       141492  141492.000000  ...  141492.000000  141492.000000\n",
            "unique           4            NaN  ...            NaN            NaN\n",
            "top     Category 1            NaN  ...            NaN            NaN\n",
            "freq        123968            NaN  ...            NaN            NaN\n",
            "mean           NaN     687.597942  ...       0.019231       0.250000\n",
            "std            NaN     402.765407  ...       0.137336       0.433014\n",
            "min            NaN       1.000000  ...       0.000000       0.000000\n",
            "25%            NaN     342.000000  ...       0.000000       0.000000\n",
            "50%            NaN     682.000000  ...       0.000000       0.000000\n",
            "75%            NaN    1022.000000  ...       0.000000       0.250000\n",
            "max            NaN    1482.000000  ...       1.000000       1.000000\n",
            "\n",
            "[11 rows x 37 columns]\n"
          ],
          "name": "stdout"
        }
      ]
    },
    {
      "cell_type": "code",
      "metadata": {
        "colab": {
          "base_uri": "https://localhost:8080/",
          "height": 265
        },
        "id": "qF-cMkwztVWX",
        "outputId": "d056f237-efdc-462a-c590-ae63df6d7d1a"
      },
      "source": [
        "plt.hist(data_retailer2.Category); "
      ],
      "execution_count": 288,
      "outputs": [
        {
          "output_type": "display_data",
          "data": {
            "image/png": "[encoded data removed]",
            "text/plain": [
              "<Figure size 432x288 with 1 Axes>"
            ]
          },
          "metadata": {
            "tags": [],
            "needs_background": "light"
          }
        }
      ]
    },
    {
      "cell_type": "code",
      "metadata": {
        "id": "7-SMqEwR9Nbq"
      },
      "source": [
        "#Replace NAs with 0\n",
        "data_retailer2= data_retailer1.fillna(0)"
      ],
      "execution_count": 245,
      "outputs": []
    },
    {
      "cell_type": "code",
      "metadata": {
        "colab": {
          "base_uri": "https://localhost:8080/",
          "height": 394
        },
        "id": "VnPoIUAK9vLp",
        "outputId": "4d97bff6-af94-49e4-a26b-001f1a9301fd"
      },
      "source": [
        "#Create categorical variables\n",
        "data_all_F = pd.concat([data_retailer2,pd.get_dummies(data_retailer2['Category'], prefix='Category',drop_first=True)],axis=1);data_all_F.head(5)\n",
        "data_all_F = pd.concat([data_all_F,pd.get_dummies(data_all_F['Buckets_Of_Size_2'], prefix='Buckets_Of_Size_2',drop_first=True)],axis=1);data_all_F.head(5)"
      ],
      "execution_count": 246,
      "outputs": [
        {
          "output_type": "execute_result",
          "data": {
            "text/html": [
              "<div>\n",
              "<style scoped>\n",
              "    .dataframe tbody tr th:only-of-type {\n",
              "        vertical-align: middle;\n",
              "    }\n",
              "\n",
              "    .dataframe tbody tr th {\n",
              "        vertical-align: top;\n",
              "    }\n",
              "\n",
              "    .dataframe thead th {\n",
              "        text-align: right;\n",
              "    }\n",
              "</style>\n",
              "<table border=\"1\" class=\"dataframe\">\n",
              "  <thead>\n",
              "    <tr style=\"text-align: right;\">\n",
              "      <th></th>\n",
              "      <th>Category</th>\n",
              "      <th>Product</th>\n",
              "      <th>Buckets_Of_Size_2</th>\n",
              "      <th>Week</th>\n",
              "      <th>Time</th>\n",
              "      <th>AveragePrice</th>\n",
              "      <th>Volume</th>\n",
              "      <th>Value</th>\n",
              "      <th>APRV</th>\n",
              "      <th>APRU</th>\n",
              "      <th>BasePrice</th>\n",
              "      <th>TPR</th>\n",
              "      <th>ACV_Weighted</th>\n",
              "      <th>Distribution_Weighted</th>\n",
              "      <th>ACV Cumulated Weighted Distribution (SKU) VOL</th>\n",
              "      <th>TPR_PromoCalendar</th>\n",
              "      <th>TPR_PromoCalendar Dummy</th>\n",
              "      <th>PM_multibuy 2+1</th>\n",
              "      <th>PM_60% for second</th>\n",
              "      <th>PM_TPR</th>\n",
              "      <th>PM_multibuy 1+1</th>\n",
              "      <th>leaflets_seasonal</th>\n",
              "      <th>leaflets_standard</th>\n",
              "      <th>cashier</th>\n",
              "      <th>Tailor made name</th>\n",
              "      <th>Tailor made name Dummy</th>\n",
              "      <th>Tailor made name Football</th>\n",
              "      <th>Tailor made name Power of One</th>\n",
              "      <th>Tailor made name Power of One 2</th>\n",
              "      <th>Tailor made amount</th>\n",
              "      <th>Secondary display counts</th>\n",
              "      <th>Secondary display counts Dummy</th>\n",
              "      <th>WeeklyCategoryVolume</th>\n",
              "      <th>IsHoliday</th>\n",
              "      <th>IsChristmas/NewYear</th>\n",
              "      <th>IsEaster</th>\n",
              "      <th>IsSummer</th>\n",
              "      <th>Category_Category 2</th>\n",
              "      <th>Category_Category 3</th>\n",
              "      <th>Category_Category 4</th>\n",
              "      <th>Buckets_Of_Size_2_0 - 100 GR</th>\n",
              "      <th>Buckets_Of_Size_2_0 - 25 GR</th>\n",
              "      <th>Buckets_Of_Size_2_0 - 50 GR</th>\n",
              "      <th>Buckets_Of_Size_2_100 - 250 GR</th>\n",
              "      <th>Buckets_Of_Size_2_201 - 300 GR</th>\n",
              "      <th>Buckets_Of_Size_2_25 - 55 GR</th>\n",
              "      <th>Buckets_Of_Size_2_50-200GR</th>\n",
              "      <th>Buckets_Of_Size_2_&gt;= 250 GR</th>\n",
              "      <th>Buckets_Of_Size_2_&gt;=300 GR</th>\n",
              "      <th>Buckets_Of_Size_2_&gt;=55 GR</th>\n",
              "    </tr>\n",
              "  </thead>\n",
              "  <tbody>\n",
              "    <tr>\n",
              "      <th>0</th>\n",
              "      <td>Category 4</td>\n",
              "      <td>7</td>\n",
              "      <td>0 - 100 GR</td>\n",
              "      <td>1</td>\n",
              "      <td>1</td>\n",
              "      <td>383.789761</td>\n",
              "      <td>158.4097</td>\n",
              "      <td>72158.9027</td>\n",
              "      <td>455.520733</td>\n",
              "      <td>40.996861</td>\n",
              "      <td>601.258208</td>\n",
              "      <td>24.238750</td>\n",
              "      <td>0.92</td>\n",
              "      <td>0.92</td>\n",
              "      <td>0.0</td>\n",
              "      <td>0.0</td>\n",
              "      <td>0.0</td>\n",
              "      <td>0.0</td>\n",
              "      <td>0.0</td>\n",
              "      <td>0.0</td>\n",
              "      <td>0.0</td>\n",
              "      <td>0.0</td>\n",
              "      <td>0.0</td>\n",
              "      <td>0.0</td>\n",
              "      <td>0</td>\n",
              "      <td>0.0</td>\n",
              "      <td>0.0</td>\n",
              "      <td>0.0</td>\n",
              "      <td>0.0</td>\n",
              "      <td>0.0</td>\n",
              "      <td>0.0</td>\n",
              "      <td>0.0</td>\n",
              "      <td>762.7185</td>\n",
              "      <td>0</td>\n",
              "      <td>1</td>\n",
              "      <td>0</td>\n",
              "      <td>0</td>\n",
              "      <td>0</td>\n",
              "      <td>0</td>\n",
              "      <td>1</td>\n",
              "      <td>1</td>\n",
              "      <td>0</td>\n",
              "      <td>0</td>\n",
              "      <td>0</td>\n",
              "      <td>0</td>\n",
              "      <td>0</td>\n",
              "      <td>0</td>\n",
              "      <td>0</td>\n",
              "      <td>0</td>\n",
              "      <td>0</td>\n",
              "    </tr>\n",
              "    <tr>\n",
              "      <th>1</th>\n",
              "      <td>Category 4</td>\n",
              "      <td>8</td>\n",
              "      <td>0 - 100 GR</td>\n",
              "      <td>1</td>\n",
              "      <td>1</td>\n",
              "      <td>383.789761</td>\n",
              "      <td>24.8724</td>\n",
              "      <td>12531.3173</td>\n",
              "      <td>503.824211</td>\n",
              "      <td>42.824980</td>\n",
              "      <td>753.184106</td>\n",
              "      <td>33.107429</td>\n",
              "      <td>0.87</td>\n",
              "      <td>0.88</td>\n",
              "      <td>0.0</td>\n",
              "      <td>0.0</td>\n",
              "      <td>0.0</td>\n",
              "      <td>0.0</td>\n",
              "      <td>0.0</td>\n",
              "      <td>0.0</td>\n",
              "      <td>0.0</td>\n",
              "      <td>0.0</td>\n",
              "      <td>0.0</td>\n",
              "      <td>0.0</td>\n",
              "      <td>0</td>\n",
              "      <td>0.0</td>\n",
              "      <td>0.0</td>\n",
              "      <td>0.0</td>\n",
              "      <td>0.0</td>\n",
              "      <td>0.0</td>\n",
              "      <td>0.0</td>\n",
              "      <td>0.0</td>\n",
              "      <td>762.7185</td>\n",
              "      <td>0</td>\n",
              "      <td>1</td>\n",
              "      <td>0</td>\n",
              "      <td>0</td>\n",
              "      <td>0</td>\n",
              "      <td>0</td>\n",
              "      <td>1</td>\n",
              "      <td>1</td>\n",
              "      <td>0</td>\n",
              "      <td>0</td>\n",
              "      <td>0</td>\n",
              "      <td>0</td>\n",
              "      <td>0</td>\n",
              "      <td>0</td>\n",
              "      <td>0</td>\n",
              "      <td>0</td>\n",
              "      <td>0</td>\n",
              "    </tr>\n",
              "    <tr>\n",
              "      <th>2</th>\n",
              "      <td>Category 4</td>\n",
              "      <td>9</td>\n",
              "      <td>0 - 100 GR</td>\n",
              "      <td>1</td>\n",
              "      <td>1</td>\n",
              "      <td>383.789761</td>\n",
              "      <td>6.4136</td>\n",
              "      <td>4877.3394</td>\n",
              "      <td>760.468286</td>\n",
              "      <td>121.674926</td>\n",
              "      <td>781.697292</td>\n",
              "      <td>2.715758</td>\n",
              "      <td>0.45</td>\n",
              "      <td>0.47</td>\n",
              "      <td>0.0</td>\n",
              "      <td>0.0</td>\n",
              "      <td>0.0</td>\n",
              "      <td>0.0</td>\n",
              "      <td>0.0</td>\n",
              "      <td>0.0</td>\n",
              "      <td>0.0</td>\n",
              "      <td>0.0</td>\n",
              "      <td>0.0</td>\n",
              "      <td>0.0</td>\n",
              "      <td>0</td>\n",
              "      <td>0.0</td>\n",
              "      <td>0.0</td>\n",
              "      <td>0.0</td>\n",
              "      <td>0.0</td>\n",
              "      <td>0.0</td>\n",
              "      <td>0.0</td>\n",
              "      <td>0.0</td>\n",
              "      <td>762.7185</td>\n",
              "      <td>0</td>\n",
              "      <td>1</td>\n",
              "      <td>0</td>\n",
              "      <td>0</td>\n",
              "      <td>0</td>\n",
              "      <td>0</td>\n",
              "      <td>1</td>\n",
              "      <td>1</td>\n",
              "      <td>0</td>\n",
              "      <td>0</td>\n",
              "      <td>0</td>\n",
              "      <td>0</td>\n",
              "      <td>0</td>\n",
              "      <td>0</td>\n",
              "      <td>0</td>\n",
              "      <td>0</td>\n",
              "      <td>0</td>\n",
              "    </tr>\n",
              "    <tr>\n",
              "      <th>3</th>\n",
              "      <td>Category 4</td>\n",
              "      <td>10</td>\n",
              "      <td>0 - 100 GR</td>\n",
              "      <td>1</td>\n",
              "      <td>1</td>\n",
              "      <td>383.789761</td>\n",
              "      <td>63.2364</td>\n",
              "      <td>27573.2860</td>\n",
              "      <td>436.035037</td>\n",
              "      <td>41.423286</td>\n",
              "      <td>682.672951</td>\n",
              "      <td>36.128268</td>\n",
              "      <td>0.94</td>\n",
              "      <td>0.95</td>\n",
              "      <td>0.0</td>\n",
              "      <td>0.0</td>\n",
              "      <td>0.0</td>\n",
              "      <td>0.0</td>\n",
              "      <td>0.0</td>\n",
              "      <td>0.0</td>\n",
              "      <td>0.0</td>\n",
              "      <td>0.0</td>\n",
              "      <td>0.0</td>\n",
              "      <td>0.0</td>\n",
              "      <td>0</td>\n",
              "      <td>0.0</td>\n",
              "      <td>0.0</td>\n",
              "      <td>0.0</td>\n",
              "      <td>0.0</td>\n",
              "      <td>0.0</td>\n",
              "      <td>0.0</td>\n",
              "      <td>0.0</td>\n",
              "      <td>762.7185</td>\n",
              "      <td>0</td>\n",
              "      <td>1</td>\n",
              "      <td>0</td>\n",
              "      <td>0</td>\n",
              "      <td>0</td>\n",
              "      <td>0</td>\n",
              "      <td>1</td>\n",
              "      <td>1</td>\n",
              "      <td>0</td>\n",
              "      <td>0</td>\n",
              "      <td>0</td>\n",
              "      <td>0</td>\n",
              "      <td>0</td>\n",
              "      <td>0</td>\n",
              "      <td>0</td>\n",
              "      <td>0</td>\n",
              "      <td>0</td>\n",
              "    </tr>\n",
              "    <tr>\n",
              "      <th>4</th>\n",
              "      <td>Category 4</td>\n",
              "      <td>24</td>\n",
              "      <td>0</td>\n",
              "      <td>1</td>\n",
              "      <td>1</td>\n",
              "      <td>383.789761</td>\n",
              "      <td>0.0000</td>\n",
              "      <td>0.0000</td>\n",
              "      <td>0.000000</td>\n",
              "      <td>0.000000</td>\n",
              "      <td>17.158643</td>\n",
              "      <td>0.000000</td>\n",
              "      <td>0.00</td>\n",
              "      <td>0.00</td>\n",
              "      <td>0.0</td>\n",
              "      <td>0.0</td>\n",
              "      <td>0.0</td>\n",
              "      <td>0.0</td>\n",
              "      <td>0.0</td>\n",
              "      <td>0.0</td>\n",
              "      <td>0.0</td>\n",
              "      <td>0.0</td>\n",
              "      <td>0.0</td>\n",
              "      <td>0.0</td>\n",
              "      <td>0</td>\n",
              "      <td>0.0</td>\n",
              "      <td>0.0</td>\n",
              "      <td>0.0</td>\n",
              "      <td>0.0</td>\n",
              "      <td>0.0</td>\n",
              "      <td>0.0</td>\n",
              "      <td>0.0</td>\n",
              "      <td>762.7185</td>\n",
              "      <td>0</td>\n",
              "      <td>1</td>\n",
              "      <td>0</td>\n",
              "      <td>0</td>\n",
              "      <td>0</td>\n",
              "      <td>0</td>\n",
              "      <td>1</td>\n",
              "      <td>0</td>\n",
              "      <td>0</td>\n",
              "      <td>0</td>\n",
              "      <td>0</td>\n",
              "      <td>0</td>\n",
              "      <td>0</td>\n",
              "      <td>0</td>\n",
              "      <td>0</td>\n",
              "      <td>0</td>\n",
              "      <td>0</td>\n",
              "    </tr>\n",
              "  </tbody>\n",
              "</table>\n",
              "</div>"
            ],
            "text/plain": [
              "     Category  Product  ... Buckets_Of_Size_2_>=300 GR  Buckets_Of_Size_2_>=55 GR\n",
              "0  Category 4        7  ...                          0                          0\n",
              "1  Category 4        8  ...                          0                          0\n",
              "2  Category 4        9  ...                          0                          0\n",
              "3  Category 4       10  ...                          0                          0\n",
              "4  Category 4       24  ...                          0                          0\n",
              "\n",
              "[5 rows x 50 columns]"
            ]
          },
          "metadata": {
            "tags": []
          },
          "execution_count": 246
        }
      ]
    },
    {
      "cell_type": "markdown",
      "metadata": {
        "id": "hZc-UsJWrnf2"
      },
      "source": [
        "### Select which product to model"
      ]
    },
    {
      "cell_type": "code",
      "metadata": {
        "id": "Lt2HIXI4IUhe"
      },
      "source": [
        "data_all_F_custom = data_all_F_custom[data_all_F_custom['Product'] == 1];"
      ],
      "execution_count": 247,
      "outputs": []
    },
    {
      "cell_type": "code",
      "metadata": {
        "colab": {
          "base_uri": "https://localhost:8080/",
          "height": 282
        },
        "id": "nKBkqn2xKn_4",
        "outputId": "46331f3c-47c0-426f-b22d-3fc56365a248"
      },
      "source": [
        "data_all_F_custom['Volume'].plot(linewidth=3)"
      ],
      "execution_count": 248,
      "outputs": [
        {
          "output_type": "execute_result",
          "data": {
            "text/plain": [
              "<matplotlib.axes._subplots.AxesSubplot at 0x7f962cada7d0>"
            ]
          },
          "metadata": {
            "tags": []
          },
          "execution_count": 248
        },
        {
          "output_type": "display_data",
          "data": {
            "image/png": "[encoded data removed]",
            "text/plain": [
              "<Figure size 432x288 with 1 Axes>"
            ]
          },
          "metadata": {
            "tags": [],
            "needs_background": "light"
          }
        }
      ]
    },
    {
      "cell_type": "markdown",
      "metadata": {
        "id": "bVlnH4z0rb9Z"
      },
      "source": [
        "### Select the features to be included in the train set"
      ]
    },
    {
      "cell_type": "code",
      "metadata": {
        "id": "KMk7UNe5NmdX"
      },
      "source": [
        "X_all = data_all_F_custom[['Product','Week','AveragePrice','APRV','BasePrice','TPR','ACV_Weighted','Distribution_Weighted','TPR_PromoCalendar Dummy','PM_multibuy 2+1','PM_60% for second','PM_TPR','PM_multibuy 1+1','leaflets_seasonal','leaflets_standard','cashier','Tailor made name Dummy','Tailor made name Football','Tailor made amount','Secondary display counts','Secondary display counts Dummy','WeeklyCategoryVolume','IsHoliday','IsChristmas/NewYear','IsEaster','IsSummer','Category_Category 2','Category_Category 3','Category_Category 4','Buckets_Of_Size_2_0 - 100 GR','Buckets_Of_Size_2_0 - 25 GR','Buckets_Of_Size_2_0 - 50 GR','Buckets_Of_Size_2_100 - 250 GR','Buckets_Of_Size_2_201 - 300 GR','Buckets_Of_Size_2_25 - 55 GR','Buckets_Of_Size_2_50-200GR','Buckets_Of_Size_2_>= 250 GR','Buckets_Of_Size_2_>=300 GR','Buckets_Of_Size_2_>=55 GR',]];\n",
        "Y_all = data_all_F_custom[['Volume']];"
      ],
      "execution_count": 249,
      "outputs": []
    },
    {
      "cell_type": "markdown",
      "metadata": {
        "id": "nOB0wdNfrt0l"
      },
      "source": [
        "### Prepare the data for training"
      ]
    },
    {
      "cell_type": "code",
      "metadata": {
        "colab": {
          "base_uri": "https://localhost:8080/"
        },
        "id": "G4HnojfBN0OJ",
        "outputId": "dacf3e1b-54ff-487a-a3a0-8217925f30fa"
      },
      "source": [
        "X_all.shape;\n",
        "X_all_DF = pd.DataFrame(X_all);\n",
        "X=X_all_DF.values;\n",
        "X.shape"
      ],
      "execution_count": 250,
      "outputs": [
        {
          "output_type": "execute_result",
          "data": {
            "text/plain": [
              "(104, 39)"
            ]
          },
          "metadata": {
            "tags": []
          },
          "execution_count": 250
        }
      ]
    },
    {
      "cell_type": "code",
      "metadata": {
        "colab": {
          "base_uri": "https://localhost:8080/"
        },
        "id": "PGCosy3UVdug",
        "outputId": "fb9d06c8-0cc8-48ed-cbc7-09178c976309"
      },
      "source": [
        "Y_all = data_all_F_custom[['Volume']].values;\n",
        "Y_all.shape\n"
      ],
      "execution_count": 251,
      "outputs": [
        {
          "output_type": "execute_result",
          "data": {
            "text/plain": [
              "(104, 1)"
            ]
          },
          "metadata": {
            "tags": []
          },
          "execution_count": 251
        }
      ]
    },
    {
      "cell_type": "code",
      "metadata": {
        "id": "grRes6CeV0Rt"
      },
      "source": [
        "from sklearn.preprocessing import MinMaxScaler\n",
        "scaler = MinMaxScaler()\n",
        "Y_all = scaler.fit_transform(Y_all)"
      ],
      "execution_count": 252,
      "outputs": []
    },
    {
      "cell_type": "code",
      "metadata": {
        "id": "YkU2m1GjWFxc"
      },
      "source": [
        "from sklearn.model_selection import train_test_split\n",
        "X_train, X_test, Y_train, Y_test  = train_test_split(X, Y_all, test_size =0.1)"
      ],
      "execution_count": 253,
      "outputs": []
    },
    {
      "cell_type": "code",
      "metadata": {
        "colab": {
          "base_uri": "https://localhost:8080/"
        },
        "id": "J4ZqUKV7WdDj",
        "outputId": "53bed2a8-98ae-4235-8997-34157d092202"
      },
      "source": [
        "X_train.shape;\n",
        "X_test.shape"
      ],
      "execution_count": 254,
      "outputs": [
        {
          "output_type": "execute_result",
          "data": {
            "text/plain": [
              "(11, 39)"
            ]
          },
          "metadata": {
            "tags": []
          },
          "execution_count": 254
        }
      ]
    },
    {
      "cell_type": "code",
      "metadata": {
        "colab": {
          "base_uri": "https://localhost:8080/"
        },
        "id": "0HoEo924OFFm",
        "outputId": "8c6b3fdb-d152-4d8e-d13d-99df43cc7349"
      },
      "source": [
        "model=tf.keras.models.Sequential()\n",
        "model.add(tf.keras.layers.Dense(units=120, activation='sigmoid', input_shape = (39,)))\n",
        "model.add(tf.keras.layers.Dense(units=100, activation='sigmoid'))\n",
        "model.add(tf.keras.layers.Dense(units=100, activation='sigmoid'))\n",
        "model.add(tf.keras.layers.Dense(units=1, activation='linear'))\n",
        "model.summary()"
      ],
      "execution_count": 269,
      "outputs": [
        {
          "output_type": "stream",
          "text": [
            "Model: \"sequential_24\"\n",
            "_________________________________________________________________\n",
            "Layer (type)                 Output Shape              Param #   \n",
            "=================================================================\n",
            "dense_78 (Dense)             (None, 120)               4800      \n",
            "_________________________________________________________________\n",
            "dense_79 (Dense)             (None, 100)               12100     \n",
            "_________________________________________________________________\n",
            "dense_80 (Dense)             (None, 100)               10100     \n",
            "_________________________________________________________________\n",
            "dense_81 (Dense)             (None, 1)                 101       \n",
            "=================================================================\n",
            "Total params: 27,101\n",
            "Trainable params: 27,101\n",
            "Non-trainable params: 0\n",
            "_________________________________________________________________\n"
          ],
          "name": "stdout"
        }
      ]
    },
    {
      "cell_type": "code",
      "metadata": {
        "id": "mdHA8LYfPb8D"
      },
      "source": [
        "model.compile(optimizer='adam', loss='mean_squared_error')"
      ],
      "execution_count": 270,
      "outputs": []
    },
    {
      "cell_type": "code",
      "metadata": {
        "colab": {
          "base_uri": "https://localhost:8080/"
        },
        "id": "nYNFmLy_PpUf",
        "outputId": "bb397764-8470-4a66-b5d1-6001c68a4cb3"
      },
      "source": [
        "epochs_hist=model.fit(X_train,Y_train, epochs=100, batch_size=10, validation_split=0.1)"
      ],
      "execution_count": 271,
      "outputs": [
        {
          "output_type": "stream",
          "text": [
            "Epoch 1/100\n",
            "9/9 [==============================] - 1s 20ms/step - loss: 0.0534 - val_loss: 0.0512\n",
            "Epoch 2/100\n",
            "9/9 [==============================] - 0s 4ms/step - loss: 0.0536 - val_loss: 0.0229\n",
            "Epoch 3/100\n",
            "9/9 [==============================] - 0s 4ms/step - loss: 0.0351 - val_loss: 0.0212\n",
            "Epoch 4/100\n",
            "9/9 [==============================] - 0s 4ms/step - loss: 0.0313 - val_loss: 0.0191\n",
            "Epoch 5/100\n",
            "9/9 [==============================] - 0s 4ms/step - loss: 0.0280 - val_loss: 0.0173\n",
            "Epoch 6/100\n",
            "9/9 [==============================] - 0s 4ms/step - loss: 0.0246 - val_loss: 0.0371\n",
            "Epoch 7/100\n",
            "9/9 [==============================] - 0s 4ms/step - loss: 0.0388 - val_loss: 0.0160\n",
            "Epoch 8/100\n",
            "9/9 [==============================] - 0s 5ms/step - loss: 0.0282 - val_loss: 0.0397\n",
            "Epoch 9/100\n",
            "9/9 [==============================] - 0s 5ms/step - loss: 0.0351 - val_loss: 0.0253\n",
            "Epoch 10/100\n",
            "9/9 [==============================] - 0s 5ms/step - loss: 0.0271 - val_loss: 0.0198\n",
            "Epoch 11/100\n",
            "9/9 [==============================] - 0s 4ms/step - loss: 0.0251 - val_loss: 0.0249\n",
            "Epoch 12/100\n",
            "9/9 [==============================] - 0s 4ms/step - loss: 0.0206 - val_loss: 0.0221\n",
            "Epoch 13/100\n",
            "9/9 [==============================] - 0s 5ms/step - loss: 0.0178 - val_loss: 0.0166\n",
            "Epoch 14/100\n",
            "9/9 [==============================] - 0s 4ms/step - loss: 0.0146 - val_loss: 0.0113\n",
            "Epoch 15/100\n",
            "9/9 [==============================] - 0s 8ms/step - loss: 0.0137 - val_loss: 0.0212\n",
            "Epoch 16/100\n",
            "9/9 [==============================] - 0s 4ms/step - loss: 0.0155 - val_loss: 0.0173\n",
            "Epoch 17/100\n",
            "9/9 [==============================] - 0s 4ms/step - loss: 0.0116 - val_loss: 0.0220\n",
            "Epoch 18/100\n",
            "9/9 [==============================] - 0s 7ms/step - loss: 0.0173 - val_loss: 0.0152\n",
            "Epoch 19/100\n",
            "9/9 [==============================] - 0s 4ms/step - loss: 0.0164 - val_loss: 0.0111\n",
            "Epoch 20/100\n",
            "9/9 [==============================] - 0s 4ms/step - loss: 0.0150 - val_loss: 0.0075\n",
            "Epoch 21/100\n",
            "9/9 [==============================] - 0s 4ms/step - loss: 0.0128 - val_loss: 0.0074\n",
            "Epoch 22/100\n",
            "9/9 [==============================] - 0s 4ms/step - loss: 0.0130 - val_loss: 0.0061\n",
            "Epoch 23/100\n",
            "9/9 [==============================] - 0s 4ms/step - loss: 0.0116 - val_loss: 0.0088\n",
            "Epoch 24/100\n",
            "9/9 [==============================] - 0s 5ms/step - loss: 0.0135 - val_loss: 0.0195\n",
            "Epoch 25/100\n",
            "9/9 [==============================] - 0s 5ms/step - loss: 0.0180 - val_loss: 0.0157\n",
            "Epoch 26/100\n",
            "9/9 [==============================] - 0s 4ms/step - loss: 0.0136 - val_loss: 0.0110\n",
            "Epoch 27/100\n",
            "9/9 [==============================] - 0s 5ms/step - loss: 0.0118 - val_loss: 0.0116\n",
            "Epoch 28/100\n",
            "9/9 [==============================] - 0s 4ms/step - loss: 0.0107 - val_loss: 0.0122\n",
            "Epoch 29/100\n",
            "9/9 [==============================] - 0s 4ms/step - loss: 0.0096 - val_loss: 0.0142\n",
            "Epoch 30/100\n",
            "9/9 [==============================] - 0s 5ms/step - loss: 0.0093 - val_loss: 0.0105\n",
            "Epoch 31/100\n",
            "9/9 [==============================] - 0s 4ms/step - loss: 0.0115 - val_loss: 0.0117\n",
            "Epoch 32/100\n",
            "9/9 [==============================] - 0s 5ms/step - loss: 0.0110 - val_loss: 0.0108\n",
            "Epoch 33/100\n",
            "9/9 [==============================] - 0s 4ms/step - loss: 0.0166 - val_loss: 0.0055\n",
            "Epoch 34/100\n",
            "9/9 [==============================] - 0s 4ms/step - loss: 0.0164 - val_loss: 0.0294\n",
            "Epoch 35/100\n",
            "9/9 [==============================] - 0s 4ms/step - loss: 0.0217 - val_loss: 0.0305\n",
            "Epoch 36/100\n",
            "9/9 [==============================] - 0s 4ms/step - loss: 0.0247 - val_loss: 0.0093\n",
            "Epoch 37/100\n",
            "9/9 [==============================] - 0s 4ms/step - loss: 0.0160 - val_loss: 0.0097\n",
            "Epoch 38/100\n",
            "9/9 [==============================] - 0s 5ms/step - loss: 0.0183 - val_loss: 0.0197\n",
            "Epoch 39/100\n",
            "9/9 [==============================] - 0s 4ms/step - loss: 0.0141 - val_loss: 0.0107\n",
            "Epoch 40/100\n",
            "9/9 [==============================] - 0s 4ms/step - loss: 0.0143 - val_loss: 0.0222\n",
            "Epoch 41/100\n",
            "9/9 [==============================] - 0s 6ms/step - loss: 0.0201 - val_loss: 0.0074\n",
            "Epoch 42/100\n",
            "9/9 [==============================] - 0s 4ms/step - loss: 0.0140 - val_loss: 0.0089\n",
            "Epoch 43/100\n",
            "9/9 [==============================] - 0s 5ms/step - loss: 0.0137 - val_loss: 0.0062\n",
            "Epoch 44/100\n",
            "9/9 [==============================] - 0s 4ms/step - loss: 0.0134 - val_loss: 0.0055\n",
            "Epoch 45/100\n",
            "9/9 [==============================] - 0s 4ms/step - loss: 0.0165 - val_loss: 0.0083\n",
            "Epoch 46/100\n",
            "9/9 [==============================] - 0s 5ms/step - loss: 0.0162 - val_loss: 0.0094\n",
            "Epoch 47/100\n",
            "9/9 [==============================] - 0s 4ms/step - loss: 0.0151 - val_loss: 0.0069\n",
            "Epoch 48/100\n",
            "9/9 [==============================] - 0s 5ms/step - loss: 0.0154 - val_loss: 0.0066\n",
            "Epoch 49/100\n",
            "9/9 [==============================] - 0s 4ms/step - loss: 0.0141 - val_loss: 0.0055\n",
            "Epoch 50/100\n",
            "9/9 [==============================] - 0s 4ms/step - loss: 0.0178 - val_loss: 0.0098\n",
            "Epoch 51/100\n",
            "9/9 [==============================] - 0s 5ms/step - loss: 0.0165 - val_loss: 0.0085\n",
            "Epoch 52/100\n",
            "9/9 [==============================] - 0s 4ms/step - loss: 0.0138 - val_loss: 0.0045\n",
            "Epoch 53/100\n",
            "9/9 [==============================] - 0s 4ms/step - loss: 0.0109 - val_loss: 0.0083\n",
            "Epoch 54/100\n",
            "9/9 [==============================] - 0s 4ms/step - loss: 0.0129 - val_loss: 0.0058\n",
            "Epoch 55/100\n",
            "9/9 [==============================] - 0s 4ms/step - loss: 0.0133 - val_loss: 0.0033\n",
            "Epoch 56/100\n",
            "9/9 [==============================] - 0s 4ms/step - loss: 0.0117 - val_loss: 0.0057\n",
            "Epoch 57/100\n",
            "9/9 [==============================] - 0s 5ms/step - loss: 0.0119 - val_loss: 0.0037\n",
            "Epoch 58/100\n",
            "9/9 [==============================] - 0s 5ms/step - loss: 0.0128 - val_loss: 0.0056\n",
            "Epoch 59/100\n",
            "9/9 [==============================] - 0s 5ms/step - loss: 0.0112 - val_loss: 0.0085\n",
            "Epoch 60/100\n",
            "9/9 [==============================] - 0s 5ms/step - loss: 0.0149 - val_loss: 0.0124\n",
            "Epoch 61/100\n",
            "9/9 [==============================] - 0s 4ms/step - loss: 0.0162 - val_loss: 0.0054\n",
            "Epoch 62/100\n",
            "9/9 [==============================] - 0s 5ms/step - loss: 0.0182 - val_loss: 0.0081\n",
            "Epoch 63/100\n",
            "9/9 [==============================] - 0s 4ms/step - loss: 0.0186 - val_loss: 0.0069\n",
            "Epoch 64/100\n",
            "9/9 [==============================] - 0s 5ms/step - loss: 0.0125 - val_loss: 0.0137\n",
            "Epoch 65/100\n",
            "9/9 [==============================] - 0s 4ms/step - loss: 0.0151 - val_loss: 0.0076\n",
            "Epoch 66/100\n",
            "9/9 [==============================] - 0s 5ms/step - loss: 0.0120 - val_loss: 0.0072\n",
            "Epoch 67/100\n",
            "9/9 [==============================] - 0s 5ms/step - loss: 0.0163 - val_loss: 0.0243\n",
            "Epoch 68/100\n",
            "9/9 [==============================] - 0s 4ms/step - loss: 0.0199 - val_loss: 0.0072\n",
            "Epoch 69/100\n",
            "9/9 [==============================] - 0s 4ms/step - loss: 0.0136 - val_loss: 0.0072\n",
            "Epoch 70/100\n",
            "9/9 [==============================] - 0s 4ms/step - loss: 0.0141 - val_loss: 0.0035\n",
            "Epoch 71/100\n",
            "9/9 [==============================] - 0s 4ms/step - loss: 0.0146 - val_loss: 0.0143\n",
            "Epoch 72/100\n",
            "9/9 [==============================] - 0s 4ms/step - loss: 0.0210 - val_loss: 0.0108\n",
            "Epoch 73/100\n",
            "9/9 [==============================] - 0s 4ms/step - loss: 0.0163 - val_loss: 0.0061\n",
            "Epoch 74/100\n",
            "9/9 [==============================] - 0s 4ms/step - loss: 0.0171 - val_loss: 0.0066\n",
            "Epoch 75/100\n",
            "9/9 [==============================] - 0s 4ms/step - loss: 0.0159 - val_loss: 0.0075\n",
            "Epoch 76/100\n",
            "9/9 [==============================] - 0s 5ms/step - loss: 0.0157 - val_loss: 0.0117\n",
            "Epoch 77/100\n",
            "9/9 [==============================] - 0s 5ms/step - loss: 0.0143 - val_loss: 0.0065\n",
            "Epoch 78/100\n",
            "9/9 [==============================] - 0s 5ms/step - loss: 0.0162 - val_loss: 0.0048\n",
            "Epoch 79/100\n",
            "9/9 [==============================] - 0s 5ms/step - loss: 0.0130 - val_loss: 0.0046\n",
            "Epoch 80/100\n",
            "9/9 [==============================] - 0s 4ms/step - loss: 0.0125 - val_loss: 0.0031\n",
            "Epoch 81/100\n",
            "9/9 [==============================] - 0s 4ms/step - loss: 0.0127 - val_loss: 0.0028\n",
            "Epoch 82/100\n",
            "9/9 [==============================] - 0s 4ms/step - loss: 0.0122 - val_loss: 0.0063\n",
            "Epoch 83/100\n",
            "9/9 [==============================] - 0s 5ms/step - loss: 0.0142 - val_loss: 0.0099\n",
            "Epoch 84/100\n",
            "9/9 [==============================] - 0s 5ms/step - loss: 0.0146 - val_loss: 0.0064\n",
            "Epoch 85/100\n",
            "9/9 [==============================] - 0s 4ms/step - loss: 0.0135 - val_loss: 0.0084\n",
            "Epoch 86/100\n",
            "9/9 [==============================] - 0s 7ms/step - loss: 0.0126 - val_loss: 0.0047\n",
            "Epoch 87/100\n",
            "9/9 [==============================] - 0s 4ms/step - loss: 0.0103 - val_loss: 0.0045\n",
            "Epoch 88/100\n",
            "9/9 [==============================] - 0s 4ms/step - loss: 0.0107 - val_loss: 0.0068\n",
            "Epoch 89/100\n",
            "9/9 [==============================] - 0s 6ms/step - loss: 0.0112 - val_loss: 0.0053\n",
            "Epoch 90/100\n",
            "9/9 [==============================] - 0s 5ms/step - loss: 0.0129 - val_loss: 0.0081\n",
            "Epoch 91/100\n",
            "9/9 [==============================] - 0s 5ms/step - loss: 0.0171 - val_loss: 0.0095\n",
            "Epoch 92/100\n",
            "9/9 [==============================] - 0s 5ms/step - loss: 0.0147 - val_loss: 0.0147\n",
            "Epoch 93/100\n",
            "9/9 [==============================] - 0s 5ms/step - loss: 0.0171 - val_loss: 0.0087\n",
            "Epoch 94/100\n",
            "9/9 [==============================] - 0s 5ms/step - loss: 0.0143 - val_loss: 0.0052\n",
            "Epoch 95/100\n",
            "9/9 [==============================] - 0s 4ms/step - loss: 0.0108 - val_loss: 0.0042\n",
            "Epoch 96/100\n",
            "9/9 [==============================] - 0s 5ms/step - loss: 0.0085 - val_loss: 0.0045\n",
            "Epoch 97/100\n",
            "9/9 [==============================] - 0s 5ms/step - loss: 0.0097 - val_loss: 0.0043\n",
            "Epoch 98/100\n",
            "9/9 [==============================] - 0s 4ms/step - loss: 0.0100 - val_loss: 0.0030\n",
            "Epoch 99/100\n",
            "9/9 [==============================] - 0s 5ms/step - loss: 0.0115 - val_loss: 0.0036\n",
            "Epoch 100/100\n",
            "9/9 [==============================] - 0s 5ms/step - loss: 0.0113 - val_loss: 0.0052\n"
          ],
          "name": "stdout"
        }
      ]
    },
    {
      "cell_type": "markdown",
      "metadata": {
        "id": "b03lXktxry7j"
      },
      "source": [
        "### Model Validation"
      ]
    },
    {
      "cell_type": "code",
      "metadata": {
        "colab": {
          "base_uri": "https://localhost:8080/"
        },
        "id": "L7s1HEcifL04",
        "outputId": "a4c767da-a8fb-4c7c-9b23-be3e6a6ad832"
      },
      "source": [
        "epochs_hist.history.keys()"
      ],
      "execution_count": 272,
      "outputs": [
        {
          "output_type": "execute_result",
          "data": {
            "text/plain": [
              "dict_keys(['loss', 'val_loss'])"
            ]
          },
          "metadata": {
            "tags": []
          },
          "execution_count": 272
        }
      ]
    },
    {
      "cell_type": "code",
      "metadata": {
        "colab": {
          "base_uri": "https://localhost:8080/",
          "height": 312
        },
        "id": "aUs9Em94fRxb",
        "outputId": "8dce4044-c7db-49b8-b3b0-f63cd1e4086d"
      },
      "source": [
        "plt.plot(epochs_hist.history['loss'])\n",
        "plt.plot(epochs_hist.history['val_loss'])\n",
        "plt.title('Model & Validation Loss Progress During Training')\n",
        "plt.xlabel('Epochs')\n",
        "plt.ylabel('Loss')"
      ],
      "execution_count": 273,
      "outputs": [
        {
          "output_type": "execute_result",
          "data": {
            "text/plain": [
              "Text(0, 0.5, 'Loss')"
            ]
          },
          "metadata": {
            "tags": []
          },
          "execution_count": 273
        },
        {
          "output_type": "display_data",
          "data": {
            "image/png": "[encoded data removed]",
            "text/plain": [
              "<Figure size 432x288 with 1 Axes>"
            ]
          },
          "metadata": {
            "tags": [],
            "needs_background": "light"
          }
        }
      ]
    },
    {
      "cell_type": "code",
      "metadata": {
        "id": "vl1GYONllmmX"
      },
      "source": [
        "y_predict=model.predict(X)"
      ],
      "execution_count": 274,
      "outputs": []
    },
    {
      "cell_type": "code",
      "metadata": {
        "colab": {
          "base_uri": "https://localhost:8080/",
          "height": 282
        },
        "id": "XtKt8DtfhGSk",
        "outputId": "4624c06a-9a4d-4a7b-fc24-2607072058a3"
      },
      "source": [
        "plt.plot(Y_all,color='r')\n",
        "plt.plot(y_predict,color='b')"
      ],
      "execution_count": 275,
      "outputs": [
        {
          "output_type": "execute_result",
          "data": {
            "text/plain": [
              "[<matplotlib.lines.Line2D at 0x7f963ac462d0>]"
            ]
          },
          "metadata": {
            "tags": []
          },
          "execution_count": 275
        },
        {
          "output_type": "display_data",
          "data": {
            "image/png": "[encoded data removed]",
            "text/plain": [
              "<Figure size 432x288 with 1 Axes>"
            ]
          },
          "metadata": {
            "tags": [],
            "needs_background": "light"
          }
        }
      ]
    },
    {
      "cell_type": "code",
      "metadata": {
        "colab": {
          "base_uri": "https://localhost:8080/"
        },
        "id": "rToo_J3uyVpt",
        "outputId": "cf65bc6f-3603-4dd0-a12c-33131676b857"
      },
      "source": [
        "from sklearn.metrics import r2_score,mean_squared_error, mean_absolute_error\n",
        "from math import sqrt\n",
        "\n",
        "RMSE=float(format(np.sqrt(mean_squared_error(Y_all,y_predict)),'0.3f'));\n",
        "RMSE"
      ],
      "execution_count": 276,
      "outputs": [
        {
          "output_type": "execute_result",
          "data": {
            "text/plain": [
              "0.103"
            ]
          },
          "metadata": {
            "tags": []
          },
          "execution_count": 276
        }
      ]
    },
    {
      "cell_type": "code",
      "metadata": {
        "id": "qLtgRaCBzmG-"
      },
      "source": [
        "n=len(X_test)\n",
        "k=X_test.shape[1]"
      ],
      "execution_count": 277,
      "outputs": []
    },
    {
      "cell_type": "code",
      "metadata": {
        "id": "QEPh72XJzFZD"
      },
      "source": [
        "MSE = mean_squared_error(Y_all,y_predict)\n",
        "MAE = mean_absolute_error(Y_all,y_predict)\n",
        "r2 = r2_score(Y_all,y_predict)\n",
        "adj_r2 =1- (1-r2)*(n-1)/(n-k-1)"
      ],
      "execution_count": 278,
      "outputs": []
    },
    {
      "cell_type": "code",
      "metadata": {
        "colab": {
          "base_uri": "https://localhost:8080/"
        },
        "id": "GW8WPfncz1M5",
        "outputId": "6169d086-5aaf-45c4-af1e-5a10cc21e1fa"
      },
      "source": [
        "print('RMSE=', RMSE)\n",
        "print('MSE=', MSE)\n",
        "print('MAE=', MAE)\n",
        "print('r2=', r2)\n",
        "print('adj_r2=', adj_r2)\n"
      ],
      "execution_count": 279,
      "outputs": [
        {
          "output_type": "stream",
          "text": [
            "RMSE= 0.103\n",
            "MSE= 0.01070787658930237\n",
            "MAE= 0.07521564845766078\n",
            "r2= 0.7417191796271135\n",
            "adj_r2= 1.0890623518527194\n"
          ],
          "name": "stdout"
        }
      ]
    }
  ]
}